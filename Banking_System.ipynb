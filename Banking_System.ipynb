{
 "cells": [
  {
   "cell_type": "markdown",
   "id": "feb53b2b-56d7-42ce-a4a4-fde085ecde1a",
   "metadata": {},
   "source": [
    "#methods in class will create  properties and values on them \n",
    "#life concept :anything happening(method) will create properties\n",
    "\n",
    "class name:\n",
    "    method(self,other properties):\n",
    "        self.properties"
   ]
  },
  {
   "cell_type": "code",
   "execution_count": null,
   "id": "7a9e720e-c5e5-47a2-8b60-b79eda722d76",
   "metadata": {},
   "outputs": [],
   "source": []
  },
  {
   "cell_type": "markdown",
   "id": "4a70c3a8-baf6-489b-ac5f-bfcbfbb691ad",
   "metadata": {},
   "source": [
    "BANKING SYSTEM"
   ]
  },
  {
   "cell_type": "code",
   "execution_count": null,
   "id": "cbc7bc1c-4bcb-4279-b413-748d8ad316c7",
   "metadata": {},
   "outputs": [],
   "source": [
    "iMPLEMENTING BANKING SYSTEM\n",
    "OPERATIONS\n",
    "1.OPEN ACCOUNT:USER WILL GIVE NAME ,GENDER,AMOUNT(MIN 3000) AND CREATES \n",
    "ACCPOUNT-->GETS ACCOUNT NUMBER AUTO GENERATED\n",
    "2.DEPOSIT(AMOUNT):-->DEPOSITE TO ACCOUNT NUMBER GIVEN (AMOUNT>0)\n",
    "3.WITHDRAW (AMOUNT)-->WITHDRAW A ACCOUNT NUMBER GIVEN(MINIMUM  BALANCE>5000)\n",
    "4:CHECK_BALANCE():--> GIVEN ACCOUNT NUMBER GIVEN BALAANCE\n",
    "MENU DRIVEN CODE FOR THIS\n",
    "EVERY OPTION STEP IS 1.READ ACCOUNT NUMBER 2.CHECK IF THERE\n",
    "3. IF THERE OPERATE ELSE UPDATE WRONG ACOUNT NUMBER"
   ]
  },
  {
   "cell_type": "code",
   "execution_count": 13,
   "id": "5cf470a1-8cd6-40d7-99b0-20a9edebd992",
   "metadata": {},
   "outputs": [],
   "source": [
    "class Account():\n",
    "    account_generator=202400      # class variable\n",
    "    def create_acc(self,name,gender,amount):\n",
    "        self.__name=name\n",
    "        self.__gender=gender\n",
    "        self.__amount=amount\n",
    "        Account.account_generator+=1\n",
    "        self.__account_no=Account.account_generator\n",
    "        print(f\"Acccount created for {self.__name} with balance {self.__amount} \")\n",
    "        print(f\"Your account number is :{self.__account_no}\")\n",
    "\n",
    "    def deposit(self,amount):\n",
    "        if amount<0:\n",
    "            print(f\"{amount} is negative can not be processed\")\n",
    "        else:\n",
    "            self.__amount+=amount\n",
    "            print(f\"last Transaction of + {amount} new balance is {self.__amount}\")\n",
    "            self.check_balance()\n",
    "    def check_balance(self):\n",
    "        print(f\" {self.__account_no} has balance of {self.__amount}₹ \")\n",
    "    def withdraw(self,amount):\n",
    "        if self.__amount-amount<5000:\n",
    "            print(f\"{self.__account_no} reacched to minimum balance\")\n",
    "        else:\n",
    "            self.__amount-=amount\n",
    "            print(f\"last Transaction of + {amount} new balance is {self.__amount}\")\n",
    "            self.check_balance()\n",
    "    def get_acc_no(self):\n",
    "        return self.__account_no\n",
    "    "
   ]
  },
  {
   "cell_type": "code",
   "execution_count": 14,
   "id": "068c1659-f740-4046-87a2-6e8bdda6d997",
   "metadata": {},
   "outputs": [],
   "source": [
    "def menu():\n",
    "    print(\"\".center(30,\"-\"))\n",
    "    print(\"Lena Bank\".center(30,\"-\"))\n",
    "    print(\"\".center(30,\"-\"))\n",
    "    print(\"1.Create account\")\n",
    "    print(\"2.deposit to an account\")\n",
    "    print(\"3.withdraw from an account\")\n",
    "    print(\"4.check Balance\")\n",
    "    print(\"5.Bank to Bank Transfer\")\n",
    "    print(\"0.to  exit\")\n",
    "    print(\":\")\n",
    "    "
   ]
  },
  {
   "cell_type": "code",
   "execution_count": null,
   "id": "43838580-72b3-4203-a05a-f63a20eb4bd0",
   "metadata": {},
   "outputs": [
    {
     "name": "stdout",
     "output_type": "stream",
     "text": [
      "------------------------------\n",
      "----------Lena Bank-----------\n",
      "------------------------------\n",
      "1.Create account\n",
      "2.deposit to an account\n",
      "3.withdraw from an account\n",
      "4.check Balance\n",
      "5.Bank to Bank Transfer\n",
      "0.to  exit\n",
      ":\n"
     ]
    },
    {
     "name": "stdin",
     "output_type": "stream",
     "text": [
      "enter the choice 1\n",
      "enter name: om\n",
      "Enter gender: male\n",
      "Enter the amount greater than 3000+ 50000\n"
     ]
    },
    {
     "name": "stdout",
     "output_type": "stream",
     "text": [
      "Acccount created for om with balance 50000.0 \n",
      "Your account number is :202401\n",
      "------------------------------\n",
      "----------Lena Bank-----------\n",
      "------------------------------\n",
      "1.Create account\n",
      "2.deposit to an account\n",
      "3.withdraw from an account\n",
      "4.check Balance\n",
      "5.Bank to Bank Transfer\n",
      "0.to  exit\n",
      ":\n"
     ]
    },
    {
     "name": "stdin",
     "output_type": "stream",
     "text": [
      "enter the choice 1\n"
     ]
    }
   ],
   "source": [
    "##### bank={}\n",
    "while True:\n",
    "    menu()\n",
    "    ch=int(input(\"enter the choice\"))\n",
    "    if ch==1:\n",
    "        name=input(\"enter name:\")\n",
    "        gender=input(\"Enter gender:\")\n",
    "        while True:\n",
    "            amount=float(input(\"Enter the amount greater than 3000+\"))\n",
    "            if amount>3000:\n",
    "                new_account=Account()\n",
    "                new_account.create_acc(name,gender,amount)\n",
    "                bank[new_account.get_acc_no()]=new_account\n",
    "                break\n",
    "            else:\n",
    "                print(\"not enogh  money ..\")\n",
    "    elif ch==2:\n",
    "        acc_num=int(input(\"enter account number\"))\n",
    "        if acc_num in bank:\n",
    "            print(\"Account Found\")\n",
    "            account=bank.get(acc_num)\n",
    "            amount_deposit=float(input(\"enter amount to deposit\"))\n",
    "            account.deposit(amount_deposit)\n",
    "        else:\n",
    "            print(f\"{acc_num} not found\")\n",
    "    elif ch==3:\n",
    "        acc_num=int(input(\"enter account number\"))\n",
    "        if acc_num in bank:\n",
    "            print(\"Account Found\")\n",
    "            account=bank.get(acc_num)\n",
    "            amount_withdraw=float(input(\"enter amount to withdrawl\"))\n",
    "            account.withdraw(amount_withdraw)\n",
    "        else:\n",
    "            print(f\"{acc_num} not found\")\n",
    "    elif ch==4:\n",
    "        acc_num=int(input(\"enter account number\"))\n",
    "        if acc_num in bank:\n",
    "            print(\"Account Found\")\n",
    "            account=bank[acc_num]\n",
    "            account.check_balance()\n",
    "        else:\n",
    "            print(f\"{acc_num} not found\")        \n",
    "    elif ch==5:\n",
    "        acc_num1=int(input(\"enter account number of your account\"))\n",
    "        acc_num2=int(input(\"enter account number where u want to tranfer money\"))\n",
    "        if acc_num1 in bank:\n",
    "            account=bank.get(acc_num1)\n",
    "            amountt=float(input(\"enter amount  you want to trasfer\"))\n",
    "            account.withdraw(amountt)\n",
    "            if acc_num2 in bank:\n",
    "                if acc_num1==acc_num2:\n",
    "                    print(\"same account number\")\n",
    "                else:\n",
    "                    account=bank.get(acc_num2)\n",
    "                    account.deposit(amountt)\n",
    "                \n",
    "            \n",
    "    elif ch==0:\n",
    "        print(\"Exiting...\")\n",
    "        break\n",
    "    else:\n",
    "        print(\"invali input plz ,enter correct input\")\n",
    "        \n"
   ]
  },
  {
   "cell_type": "code",
   "execution_count": 3,
   "id": "ff8d9698-450f-4993-a3c9-952d2ee295a6",
   "metadata": {},
   "outputs": [],
   "source": [
    "# a=Account()\n",
    "# a.create_acc(\"amar\",\"male\",10000)\n",
    "# a.check_balance()\n",
    "# a.deposit(3000)"
   ]
  },
  {
   "cell_type": "code",
   "execution_count": 4,
   "id": "90a0bb3b-ac96-48e0-8a50-55d909b1e046",
   "metadata": {},
   "outputs": [],
   "source": [
    "# a.deposit(3000)"
   ]
  },
  {
   "cell_type": "code",
   "execution_count": 5,
   "id": "fe1bd8be-c39a-4642-9130-289fcec4173f",
   "metadata": {},
   "outputs": [],
   "source": [
    "# a.withdraw(3000)"
   ]
  }
 ],
 "metadata": {
  "kernelspec": {
   "display_name": "Python 3 (ipykernel)",
   "language": "python",
   "name": "python3"
  },
  "language_info": {
   "codemirror_mode": {
    "name": "ipython",
    "version": 3
   },
   "file_extension": ".py",
   "mimetype": "text/x-python",
   "name": "python",
   "nbconvert_exporter": "python",
   "pygments_lexer": "ipython3",
   "version": "3.12.4"
  }
 },
 "nbformat": 4,
 "nbformat_minor": 5
}
